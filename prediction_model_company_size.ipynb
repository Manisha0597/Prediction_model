{
 "cells": [
  {
   "cell_type": "markdown",
   "id": "29e0cedd",
   "metadata": {},
   "source": [
    "# Task 2: Predict Company Size using Logistic Regression\n",
    "We predict whether a company is 'large' or 'small' based on the length of its name."
   ]
  },
  {
   "cell_type": "code",
   "execution_count": null,
   "id": "65ecc3fd",
   "metadata": {},
   "outputs": [],
   "source": [
    "\n",
    "# ✅ Task 2: Predict if a company is large (based on name length)\n",
    "\n",
    "import pandas as pd\n",
    "from sklearn.model_selection import train_test_split\n",
    "from sklearn.linear_model import LogisticRegression\n",
    "from sklearn.preprocessing import LabelEncoder\n",
    "from sklearn.metrics import accuracy_score, confusion_matrix\n",
    "from google.colab import files\n",
    "\n",
    "# Step 1: Upload the file\n",
    "uploaded = files.upload()\n",
    "df = pd.read_csv(\"customers-100.csv\")\n",
    "\n",
    "# Step 2: Create a new target column: Is_Large_Company\n",
    "df = df[['City', 'Company', 'Country']].dropna()\n",
    "df['Is_Large_Company'] = df['Company'].apply(lambda x: 1 if len(str(x)) > 10 else 0)\n",
    "\n",
    "# Step 3: Encode categorical features\n",
    "df['City'] = LabelEncoder().fit_transform(df['City'])\n",
    "df['Company'] = LabelEncoder().fit_transform(df['Company'])\n",
    "df['Country'] = LabelEncoder().fit_transform(df['Country'])\n",
    "\n",
    "# Step 4: Split and train model\n",
    "X = df[['City', 'Company', 'Country']]\n",
    "y = df['Is_Large_Company']\n",
    "X_train, X_test, y_train, y_test = train_test_split(X, y)\n",
    "\n",
    "model = LogisticRegression()\n",
    "model.fit(X_train, y_train)\n",
    "\n",
    "# Step 5: Evaluate\n",
    "pred = model.predict(X_test)\n",
    "print(\"✅ Accuracy:\", accuracy_score(y_test, pred))\n",
    "print(\"📊 Confusion Matrix:\\n\", confusion_matrix(y_test, pred))\n"
   ]
  }
 ],
 "metadata": {},
 "nbformat": 4,
 "nbformat_minor": 5
}
